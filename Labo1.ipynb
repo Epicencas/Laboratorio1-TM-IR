{
 "cells": [
  {
   "cell_type": "markdown",
   "id": "94257c93-9a04-4192-bf37-af5cae5c2db4",
   "metadata": {},
   "source": [
    "### Creación del Entorno"
   ]
  },
  {
   "cell_type": "code",
   "execution_count": 1,
   "id": "e7786d87-f9c6-4f0d-aa3c-8ad5d7e00338",
   "metadata": {},
   "outputs": [],
   "source": [
    "import cv2\n",
    "import matplotlib.pyplot as plt\n",
    "import numpy as np\n",
    "import pandas as pd"
   ]
  },
  {
   "cell_type": "markdown",
   "id": "89182204-e66d-450b-8c1f-e7bee7f470e9",
   "metadata": {},
   "source": [
    "### Problema 1"
   ]
  },
  {
   "cell_type": "code",
   "execution_count": 2,
   "id": "07ec0c07-c752-4806-b0b2-c5c3c837ed56",
   "metadata": {},
   "outputs": [],
   "source": [
    "#img = cv2.imread(\"batmovil.jpg\")\n",
    "#img.shape\n",
    "#img = cv2.cvtColor(img, cv2.COLOR_BGR2RGB)"
   ]
  },
  {
   "cell_type": "code",
   "execution_count": 5,
   "id": "2d425b6d-0d5a-4045-8589-1818ed82ec02",
   "metadata": {},
   "outputs": [],
   "source": [
    "def genImg(color, imagen):\n",
    "    \n",
    "    img = cv2.imread(imagen)\n",
    "    img.shape\n",
    "    img = cv2.cvtColor(img, cv2.COLOR_BGR2RGB)\n",
    "    \n",
    "    alto = img.shape[0]\n",
    "    ancho = img.shape[1]\n",
    "    lienzo = np.zeros((alto, ancho, 3))\n",
    "    #color = 30\n",
    "\n",
    "    if color == 1:\n",
    "        for i in range(0, alto):\n",
    "                for j in range(0, ancho):\n",
    "                    pixel = img[i, j]\n",
    "                    blue = pixel[2]\n",
    "                    green = pixel[1]\n",
    "                    red = pixel[0]\n",
    "                    lienzo[i, j] = [blue, 0, 0]\n",
    "        cv2.imwrite(\"azul.jpg\", lienzo)\n",
    "        azul = cv2.imread(\"azul.jpg\")\n",
    "        azul = cv2.cvtColor(azul, cv2.COLOR_BGR2RGB)\n",
    "\n",
    "    elif color ==2:\n",
    "        for i in range(0, alto):\n",
    "                for j in range(0, ancho):\n",
    "                    pixel = img[i, j]\n",
    "                    blue = pixel[2]\n",
    "                    green = pixel[1]\n",
    "                    red = pixel[0]\n",
    "                    lienzo[i, j] = [0, green, 0]\n",
    "        cv2.imwrite(\"verde.jpg\", lienzo)\n",
    "        verde = cv2.imread(\"verde.jpg\")\n",
    "        verde = cv2.cvtColor(verde, cv2.COLOR_BGR2RGB)\n",
    "    elif color ==3:\n",
    "        for i in range(0, alto):\n",
    "                for j in range(0, ancho):\n",
    "                    pixel = img[i, j]\n",
    "                    blue = pixel[2]\n",
    "                    green = pixel[1]\n",
    "                    red = pixel[0]\n",
    "                    lienzo[i, j] = [0, 0, red]\n",
    "        cv2.imwrite(\"rojo.jpg\", lienzo)\n",
    "        rojo = cv2.imread(\"rojo.jpg\")\n",
    "        rojo = cv2.cvtColor(rojo, cv2.COLOR_BGR2RGB)\n",
    "    elif color ==10:\n",
    "        for i in range(0, alto):\n",
    "                for j in range(0, ancho):\n",
    "                    pixel = img[i, j]\n",
    "                    blue = pixel[2]\n",
    "                    green = pixel[1]\n",
    "                    red = pixel[0]\n",
    "                    lienzo[i, j] = [0, green, red]\n",
    "        cv2.imwrite(\"rojoverde.jpg\", lienzo)\n",
    "        rojoverde = cv2.imread(\"rojoverde.jpg\")\n",
    "        rojoverde = cv2.cvtColor(rojoverde, cv2.COLOR_BGR2RGB)\n",
    "    elif color ==20:\n",
    "        for i in range(0, alto):\n",
    "                for j in range(0, ancho):\n",
    "                    pixel = img[i, j]\n",
    "                    blue = pixel[2]\n",
    "                    green = pixel[1]\n",
    "                    red = pixel[0]\n",
    "                    lienzo[i, j] = [blue, green, 0]\n",
    "        cv2.imwrite(\"verdeazul.jpg\", lienzo)\n",
    "        verdeazul = cv2.imread(\"verdeazul.jpg\")\n",
    "        verdeazul = cv2.cvtColor(verdeazul, cv2.COLOR_BGR2RGB)\n",
    "    elif color ==30:\n",
    "        for i in range(0, alto):\n",
    "                for j in range(0, ancho):\n",
    "                    pixel = img[i, j]\n",
    "                    blue = pixel[2]\n",
    "                    green = pixel[1]\n",
    "                    red = pixel[0]\n",
    "                    lienzo[i, j] = [blue, 0, red]\n",
    "        cv2.imwrite(\"azulrojo.jpg\", lienzo)\n",
    "        azulrojo = cv2.imread(\"azulrojo.jpg\")\n",
    "        azulrojo = cv2.cvtColor(azulrojo, cv2.COLOR_BGR2RGB)\n"
   ]
  },
  {
   "cell_type": "code",
   "execution_count": 8,
   "id": "2de526e0-6564-4140-9ecc-b0224c5b3be6",
   "metadata": {},
   "outputs": [],
   "source": [
    "genImg(2, \"batmovil.jpg\" )"
   ]
  },
  {
   "cell_type": "markdown",
   "id": "a65221e6-15bf-4042-b007-8c7417840b79",
   "metadata": {},
   "source": [
    "### Problema 2"
   ]
  },
  {
   "cell_type": "code",
   "execution_count": 12,
   "id": "4d18eb26-129e-472d-abc1-425d3c6e1ae0",
   "metadata": {},
   "outputs": [],
   "source": [
    "def unification(imagen1, imagen2, imagen3):\n",
    "    img1 = cv2.imread(imagen1)\n",
    "    img1.shape\n",
    "    img1 = cv2.cvtColor(img1, cv2.COLOR_BGR2RGB)\n",
    "\n",
    "    img2 = cv2.imread(imagen2)\n",
    "    img2.shape\n",
    "    img2 = cv2.cvtColor(img2, cv2.COLOR_BGR2RGB)\n",
    "\n",
    "    img3 = cv2.imread(imagen3)\n",
    "    img3.shape\n",
    "    img3 = cv2.cvtColor(img3, cv2.COLOR_BGR2RGB)\n",
    "#\"./Lab1/imagen1/imagen1_salida_gray_rojo.jpg\"\n",
    "\n",
    "    alto1 = img1.shape[0]\n",
    "    ancho1 = img1.shape[1]\n",
    "    lienzo1 = np.zeros((alto1, ancho1, 3))\n",
    "\n",
    "    alto2 = img2.shape[0]\n",
    "    ancho2 = img2.shape[1]\n",
    "    lienzo2 = np.zeros((alto2, ancho2, 3))\n",
    "\n",
    "    alto3 = img3.shape[0]\n",
    "    ancho3 = img3.shape[1]\n",
    "    lienzo3 = np.zeros((alto3, ancho3, 3))\n",
    "\n",
    "\n",
    "    for i in range(0, alto1):\n",
    "            for j in range(0, ancho1):\n",
    "                pixel = img1[i, j]\n",
    "                blue = pixel[2]\n",
    "                green = pixel[1]\n",
    "                red = pixel[0]\n",
    "                lienzo1[i, j] = [blue, 0, 0]\n",
    "\n",
    "    for i in range(0, alto2):\n",
    "            for j in range(0, ancho2):\n",
    "                pixel = img2[i, j]\n",
    "                blue = pixel[2]\n",
    "                green = pixel[1]\n",
    "                red = pixel[0]\n",
    "                lienzo2[i, j] = [0, 0, red]\n",
    "\n",
    "    for i in range(0, alto3):\n",
    "            for j in range(0, ancho3):\n",
    "                pixel = img3[i, j]\n",
    "                blue = pixel[2]\n",
    "                green = pixel[1]\n",
    "                red = pixel[0]\n",
    "                lienzo3[i, j] = [0, green, 0]\n",
    "\n",
    "    lienzo = lienzo1 + lienzo2 + lienzo3           \n",
    "\n",
    "\n",
    "    cv2.imwrite(\"concat.jpg\", lienzo)\n",
    "    concat = cv2.imread(\"concat.jpg\")\n",
    "    concat = cv2.cvtColor(concat, cv2.COLOR_BGR2RGB)"
   ]
  },
  {
   "cell_type": "code",
   "execution_count": 14,
   "id": "8810bc90-96a5-4836-a1c3-81aa58bf2537",
   "metadata": {},
   "outputs": [],
   "source": [
    "unification(\"imagen1_salida_gray_azul.jpg\", \"imagen1_salida_gray_rojo.jpg\", \"imagen1_salida_gray_verde.jpg\")"
   ]
  },
  {
   "cell_type": "code",
   "execution_count": 18,
   "id": "a5b14a6c-adf2-400e-8197-6691df95fbe6",
   "metadata": {},
   "outputs": [],
   "source": [
    "unification(\"imagen2_salida_gray_azul.jpg\",\"imagen2_salida_gray_rojo.jpg\",\"imagen2_salida_gray_verde.jpg\")"
   ]
  },
  {
   "cell_type": "code",
   "execution_count": 20,
   "id": "d04a8482-9fbe-4b88-bfeb-ef80c18c7635",
   "metadata": {},
   "outputs": [],
   "source": [
    "unification(\"perro_salida_gray_azul.jpg\",\"perro_salida_gray_rojo.jpg\",\"perro_salida_gray_verde.jpg\")"
   ]
  },
  {
   "cell_type": "markdown",
   "id": "003655fc-51a6-4868-b101-9c61bc9868f8",
   "metadata": {},
   "source": [
    "### Problema 3"
   ]
  },
  {
   "cell_type": "code",
   "execution_count": 6,
   "id": "afd68307-b11b-450b-bd22-a2bbbd9f643a",
   "metadata": {},
   "outputs": [],
   "source": [
    "#img = cv2.imread(\"P3.jpg\")\n",
    "#img.shape\n",
    "#img = cv2.cvtColor(img, cv2.COLOR_BGR2RGB)"
   ]
  },
  {
   "cell_type": "code",
   "execution_count": 59,
   "id": "c936f7dd-0156-43ce-856f-c770ac34d817",
   "metadata": {},
   "outputs": [],
   "source": [
    "def genGrayScale(imagen):\n",
    "    \n",
    "    img = cv2.imread(imagen)\n",
    "    img.shape\n",
    "    img = cv2.cvtColor(img, cv2.COLOR_BGR2RGB)\n",
    "    \n",
    "    alto = img.shape[0]\n",
    "    ancho = img.shape[1]\n",
    "    media_ponderada1 = np.zeros((alto, ancho, 1))\n",
    "    media_ponderada2 = np.zeros((alto, ancho, 1))\n",
    "    media_ponderada3 = np.zeros((alto, ancho, 1))\n",
    "\n",
    "    for i in range(0, alto):\n",
    "            for j in range(0, ancho):\n",
    "                pixel = img[i, j]\n",
    "                blue = pixel[2]\n",
    "                green = pixel[1]\n",
    "                red = pixel[0]\n",
    "                media_ponderada1[i, j] = int(0.299*blue + 0.587*0 + 0.114*0)\n",
    "    cv2.imwrite(\"gris_a.jpg\", media_ponderada1)\n",
    "    gris_a = cv2.imread(\"gris_a.jpg\")\n",
    "    gris_a = cv2.cvtColor(gris_a, cv2.COLOR_BGR2RGB)\n",
    "\n",
    "    for i in range(0, alto):\n",
    "            for j in range(0, ancho):\n",
    "                pixel = img[i, j]\n",
    "                blue = pixel[2]\n",
    "                green = pixel[1]\n",
    "                red = pixel[0]\n",
    "                media_ponderada2[i, j] = int(0.299*0 + 0.587*green + 0.114*0)\n",
    "    cv2.imwrite(\"gris_v.jpg\", media_ponderada2)\n",
    "    gris_v = cv2.imread(\"gris_v.jpg\")\n",
    "    gris_v = cv2.cvtColor(gris_v, cv2.COLOR_BGR2RGB)\n",
    "\n",
    "    for i in range(0, alto):\n",
    "            for j in range(0, ancho):\n",
    "                pixel = img[i, j]\n",
    "                blue = pixel[2]\n",
    "                green = pixel[1]\n",
    "                red = pixel[0]\n",
    "                media_ponderada3[i, j] = int(0.299*0 + 0.587*0 + 0.114*red)\n",
    "    cv2.imwrite(\"gris_r.jpg\", media_ponderada3)\n",
    "    gris_r = cv2.imread(\"gris_r.jpg\")\n",
    "    gris_r = cv2.cvtColor(gris_r, cv2.COLOR_BGR2RGB)"
   ]
  },
  {
   "cell_type": "code",
   "execution_count": 60,
   "id": "7ecb40a8-705a-459a-9abb-ad7ffb116f50",
   "metadata": {},
   "outputs": [],
   "source": [
    "genGrayScale(\"P3.jpg\")"
   ]
  },
  {
   "cell_type": "markdown",
   "id": "8129f759-f205-4664-bdcb-c1f0094d4df6",
   "metadata": {},
   "source": [
    "### Problema 4"
   ]
  },
  {
   "cell_type": "code",
   "execution_count": 30,
   "id": "e5ec48b0-50b7-4c8b-b3b8-0e981894f0b6",
   "metadata": {},
   "outputs": [],
   "source": [
    "#img = cv2.imread(\"foto.png\")\n",
    "#img.shape\n",
    "#img = cv2.cvtColor(img, cv2.COLOR_BGR2RGB)"
   ]
  },
  {
   "cell_type": "code",
   "execution_count": 57,
   "id": "6f1e9ef9-8b26-429a-860f-8d82ffc15e18",
   "metadata": {},
   "outputs": [],
   "source": [
    "def genHistograms(imagen):\n",
    "    \n",
    "    img = cv2.imread(imagen)\n",
    "    img.shape\n",
    "    img = cv2.cvtColor(img, cv2.COLOR_BGR2RGB)\n",
    "    \n",
    "    alto = img.shape[0]\n",
    "    ancho = img.shape[1]\n",
    "    media_ponderada1 = np.zeros((alto, ancho, 1))\n",
    "    lienzo1 = np.zeros((alto, ancho, 3))\n",
    "    lienzo2 = np.zeros((alto, ancho, 3))\n",
    "    lienzo3 = np.zeros((alto, ancho, 3))\n",
    "    lista1 = []\n",
    "    lista2 = []\n",
    "    lista3 = []\n",
    "    lista4 = []\n",
    "\n",
    "\n",
    "    for i in range(0, alto):\n",
    "            for j in range(0, ancho):\n",
    "                pixel = img[i, j]\n",
    "                blue = pixel[2]\n",
    "                #green = pixel[1]\n",
    "                #red = pixel[0]\n",
    "                #lienzo1[i, j] = [blue]\n",
    "                lista1.append(blue)\n",
    "                \n",
    "    promedio1 = sum(lista1)/len(lista1)\n",
    "    plt.hist(x=lista1)\n",
    "    plt.axvline(promedio1, color='k', linestyle='dashed', linewidth=1)\n",
    "    plt.title('Histograma Blue '+ '   Promedio=' +str(round(promedio1,2)))\n",
    "    plt.xlabel('Color')\n",
    "    plt.ylabel('Frecuencia')\n",
    "    plt.show()\n",
    "\n",
    "    for i in range(0, alto):\n",
    "            for j in range(0, ancho):\n",
    "                pixel = img[i, j]\n",
    "                #blue = pixel[2]\n",
    "                green = pixel[1]\n",
    "                #red = pixel[0]\n",
    "                #lienzo2[i, j] = [0, green, 0]\n",
    "                lista2.append(green)\n",
    "                                \n",
    "    promedio2 = sum(lista2)/len(lista2)\n",
    "    plt.hist(x=lista2)\n",
    "    plt.axvline(promedio2, color='k', linestyle='dashed', linewidth=1)\n",
    "    plt.title('Histograma Green ' + '   Promedio=' +str(round(promedio2,2)))\n",
    "    plt.xlabel('Color')\n",
    "    plt.ylabel('Frecuencia')\n",
    "    plt.show()\n",
    "\n",
    "    for i in range(0, alto):\n",
    "            for j in range(0, ancho):\n",
    "                pixel = img[i, j]\n",
    "                #blue = pixel[2]\n",
    "                #green = pixel[1]\n",
    "                red = pixel[0]\n",
    "                #lienzo3[i, j] = [0, 0, red]\n",
    "                lista3.append(red)\n",
    "                \n",
    "    promedio3 = sum(lista3)/len(lista3)\n",
    "    plt.hist(x=lista3)\n",
    "    plt.axvline(promedio3, color='k', linestyle='dashed', linewidth=1)\n",
    "\n",
    "    plt.title('Histograma Red ' + '   Promedio=' +str(round(promedio3,2)))\n",
    "    plt.xlabel('Color')\n",
    "    plt.ylabel('Frecuencia')\n",
    "    plt.show()\n",
    "\n",
    "    for i in range(0, alto):\n",
    "            for j in range(0, ancho):\n",
    "                pixel = img[i, j]\n",
    "                blue = pixel[2]\n",
    "                green = pixel[1]\n",
    "                red = pixel[0]\n",
    "                media_ponderada1[i, j] = int(0.299*blue + 0.587*green + 0.114*red)\n",
    "                lista4.append(media_ponderada1[i,j,0])\n",
    "\n",
    "    promedio4 = sum(lista4)/len(lista4)\n",
    "    plt.hist(x=lista4)\n",
    "    plt.axvline(promedio4, color='k', linestyle='dashed', linewidth=1)\n",
    "    plt.title('Histograma Gris' + '   Promedio=' +str(round(promedio4,2)))\n",
    "    plt.xlabel('Color')\n",
    "    plt.ylabel('Frecuencia')\n",
    "    plt.show()\n"
   ]
  },
  {
   "cell_type": "code",
   "execution_count": 58,
   "id": "73ce6899-f338-46fb-9261-480900b26150",
   "metadata": {},
   "outputs": [
    {
     "data": {
      "image/png": "[encoded data removed]",
      "text/plain": [
       "<Figure size 432x288 with 1 Axes>"
      ]
     },
     "metadata": {
      "needs_background": "light"
     },
     "output_type": "display_data"
    },
    {
     "data": {
      "image/png": "[encoded data removed]",
      "text/plain": [
       "<Figure size 432x288 with 1 Axes>"
      ]
     },
     "metadata": {
      "needs_background": "light"
     },
     "output_type": "display_data"
    },
    {
     "data": {
      "image/png": "[encoded data removed]",
      "text/plain": [
       "<Figure size 432x288 with 1 Axes>"
      ]
     },
     "metadata": {
      "needs_background": "light"
     },
     "output_type": "display_data"
    },
    {
     "data": {
      "image/png": "[encoded data removed]",
      "text/plain": [
       "<Figure size 432x288 with 1 Axes>"
      ]
     },
     "metadata": {
      "needs_background": "light"
     },
     "output_type": "display_data"
    }
   ],
   "source": [
    "genHistograms(\"foto.png\")"
   ]
  },
  {
   "cell_type": "markdown",
   "id": "73148d86-41e9-40c3-b333-aa4a9f879dfd",
   "metadata": {},
   "source": [
    "### Problema 5"
   ]
  },
  {
   "cell_type": "code",
   "execution_count": 32,
   "id": "74b2afad-182a-40ae-8c62-30f3befb39a3",
   "metadata": {},
   "outputs": [],
   "source": [
    "#img = cv2.imread(\"foto.png\")\n",
    "#img.shape\n",
    "#img = cv2.cvtColor(img, cv2.COLOR_BGR2RGB)"
   ]
  },
  {
   "cell_type": "code",
   "execution_count": 61,
   "id": "3ac4d1ea-94fe-4ead-92ff-c41924f45da5",
   "metadata": {},
   "outputs": [],
   "source": [
    "def genImgGray(imagen):\n",
    "    \n",
    "    img = cv2.imread(\"foto.png\")\n",
    "    img.shape\n",
    "    img = cv2.cvtColor(img, cv2.COLOR_BGR2RGB)\n",
    "        \n",
    "    alto = img.shape[0]\n",
    "    ancho = img.shape[1]\n",
    "    media_ponderada = np.zeros((alto, ancho, 1))\n",
    "\n",
    "    for i in range(0, alto):\n",
    "            for j in range(0, ancho):\n",
    "                pixel = img[i, j]\n",
    "                blue = pixel[2]\n",
    "                green = pixel[1]\n",
    "                red = pixel[0]\n",
    "                media_ponderada[i, j] = int(0.299*blue + 0.587*green + 0.114*red)\n",
    "    cv2.imwrite(\"gris_p.jpg\", media_ponderada)\n",
    "    gris_p = cv2.imread(\"gris_p.jpg\")\n",
    "    gris_p = cv2.cvtColor(gris_p, cv2.COLOR_BGR2RGB)"
   ]
  },
  {
   "cell_type": "code",
   "execution_count": 62,
   "id": "39766029-7fd1-4708-9d12-03da7d76511c",
   "metadata": {},
   "outputs": [],
   "source": [
    "genImgGray(\"foto.png\")"
   ]
  },
  {
   "cell_type": "markdown",
   "id": "f2c920e8-8206-4a53-ba58-1d63ca628182",
   "metadata": {},
   "source": [
    "### Problema 6"
   ]
  },
  {
   "cell_type": "markdown",
   "id": "655e1b8c-40cf-4de4-9c14-574bd685cf7c",
   "metadata": {},
   "source": [
    "#### Descripción\n",
    "\n",
    "El modelo HSB (o HSV) deriva del espacio RGB y representa los colores combinando tres valores: el tono en sí (H), la saturación o cantidad de color (S) y el brillo del mismo (B). Estos valores suelen representarse en un diagrama circular.A diferencia del RGB y CMYK, que se definen en relación con los colores primarios, el HSV se define de manera similar a como los humanos perciben el color.\n",
    "\n",
    "Estas tres magnitudes pueden tener los siguientes valores:\n",
    "\n",
    " - H (color en concreto). Valores de 0-360º. La gama cromática se representa en una rueda circular y este valor expresa su posición. 0° corresponde al color rojo, 120° corresponde al color verde y 240° corresponde al color azul.\n",
    "\n",
    " - S (Saturación). Valores de 0-100%. De menos a más cantidad de color. Es la cantidad de gris en el color.  La reducción de la saturación hacia cero para introducir más gris produce un efecto de desvanecimiento\n",
    "\n",
    " - B (Brillo). Valores de 0-100%. El valor trabaja en conjunto con la saturación y describe el brillo o intensidad del color, desde 0-100 por ciento, donde 0 es completamente negro, y 100 es el más brillante y revela la mayor parte del color.\n",
    "\n",
    "Este modelo fue creado para aportar tanto información sobre el color en sí como sobre la cantidad y brillo del mismo, representando todo a la vez en un mismo diagrama cromático. HSB presenta los colores y sus diferentes grados de brillo y saturación en un único diagrama -cónico o circular-.\n",
    "\n",
    "#### Cómo se utiliza el HSV\n",
    "\n",
    "El modelo de color HSV se utiliza cuando se seleccionan colores para pintura o tinta porque HSV representa mejor la forma en que las personas se relacionan con los colores que el modelo de color RGB.\n",
    "\n",
    "La rueda de color HSV también se utiliza para generar gráficos de alta calidad, aunque es menos conocido que sus primos RGB y CMYK.\n",
    "\n",
    "La selección de un color HSV comienza con la selección de uno de los tonos disponibles y, a continuación, el ajuste de los valores de sombra y brillo.\n",
    "\n",
    "\n",
    "\n",
    "\n",
    "\n"
   ]
  }
 ],
 "metadata": {
  "kernelspec": {
   "display_name": "Python 3 (ipykernel)",
   "language": "python",
   "name": "python3"
  },
  "language_info": {
   "codemirror_mode": {
    "name": "ipython",
    "version": 3
   },
   "file_extension": ".py",
   "mimetype": "text/x-python",
   "name": "python",
   "nbconvert_exporter": "python",
   "pygments_lexer": "ipython3",
   "version": "3.9.12"
  }
 },
 "nbformat": 4,
 "nbformat_minor": 5
}
